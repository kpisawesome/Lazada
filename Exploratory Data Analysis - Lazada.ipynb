{
  "nbformat": 4,
  "nbformat_minor": 0,
  "metadata": {
    "kernelspec": {
      "display_name": "Python 3",
      "language": "python",
      "name": "python3"
    },
    "language_info": {
      "codemirror_mode": {
        "name": "ipython",
        "version": 3
      },
      "file_extension": ".py",
      "mimetype": "text/x-python",
      "name": "python",
      "nbconvert_exporter": "python",
      "pygments_lexer": "ipython3",
      "version": "3.7.0"
    },
    "colab": {
      "name": "Exploratory Data Analysis - Lazada.ipynb",
      "version": "0.3.2",
      "provenance": []
    }
  },
  "cells": [
    {
      "cell_type": "markdown",
      "metadata": {
        "id": "DmTKGtakSpmO",
        "colab_type": "text"
      },
      "source": [
        "##  Exploratory Data Analysis\n",
        "\n",
        "In any Data Science project, the first step is to perform <b>Exploratory Data Analysis</b> (EDA) on the dataset. EDA is the first step for us to begin understanding the dataset and in doing so, answer some of the common assumptions we have of our data so that we are able to understand how to better prepare it for further analysis.\n",
        "\n",
        "We will be doing the following steps in our EDA:\n",
        "\n",
        "1. Read File\n",
        "2. Preview Data\n",
        "3. Clean Data\n",
        "4. Explore with Questions\n",
        "5. Visualise\n",
        "\n",
        "## Lazada Dataset\n",
        "<img src=\"https://s.yimg.com/ny/api/res/1.2/_qLpCqbdgKq0nnY3UDmI2w--~A/YXBwaWQ9aGlnaGxhbmRlcjtzbT0xO3c9NzQ0O2g9Mzcy/http://media.zenfs.com/en/homerun/feed_manager_auto_publish_494/87db61c8ea6d6fcc4122595bb0c0c2c5\" width=\"400\">\n",
        "\n",
        "This dataset has been source from the Lazada marketplace, where we have above <b>36 thousand rows</b> of data to work with. <b>Each row represents one product</b>. Opening this file in Microsoft Excel would look like this:\n",
        "\n",
        "<img src=\"https://i.imgur.com/E0QJP92.png\">\n",
        "\n",
        "We're going to do some simple analysis with these products and see what we can come up with."
      ]
    },
    {
      "cell_type": "markdown",
      "metadata": {
        "id": "bk5C4Gz-SpmS",
        "colab_type": "text"
      },
      "source": [
        "<h2>Step 1: Reading the Lazada Dataset </h2>\n",
        "\n",
        "### Practice 1\n",
        "Just as you did in your recap, read the `lazada_data.csv` file in to a list of dictionaries and store them in to a variable called `lazada_data`."
      ]
    },
    {
      "cell_type": "code",
      "metadata": {
        "id": "IrrVnEKrSpmV",
        "colab_type": "code",
        "colab": {
          "base_uri": "https://localhost:8080/",
          "height": 408
        },
        "outputId": "9f063573-a534-4a39-cee8-ba1cdc5ae64b"
      },
      "source": [
        "import pandas as pd\n",
        "url = 'https://github.com/kpisawesome/Lazada/blob/master/lazada_data.csv?raw=true'\n",
        "dfl = pd.read_csv(url)\n",
        "dfl.head()"
      ],
      "execution_count": 1,
      "outputs": [
        {
          "output_type": "execute_result",
          "data": {
            "text/html": [
              "<div>\n",
              "<style scoped>\n",
              "    .dataframe tbody tr th:only-of-type {\n",
              "        vertical-align: middle;\n",
              "    }\n",
              "\n",
              "    .dataframe tbody tr th {\n",
              "        vertical-align: top;\n",
              "    }\n",
              "\n",
              "    .dataframe thead th {\n",
              "        text-align: right;\n",
              "    }\n",
              "</style>\n",
              "<table border=\"1\" class=\"dataframe\">\n",
              "  <thead>\n",
              "    <tr style=\"text-align: right;\">\n",
              "      <th></th>\n",
              "      <th>country</th>\n",
              "      <th>sku_id</th>\n",
              "      <th>title</th>\n",
              "      <th>category_lvl_1</th>\n",
              "      <th>category_lvl_2</th>\n",
              "      <th>category_lvl_3</th>\n",
              "      <th>short_description</th>\n",
              "      <th>price</th>\n",
              "      <th>product_type</th>\n",
              "    </tr>\n",
              "  </thead>\n",
              "  <tbody>\n",
              "    <tr>\n",
              "      <th>0</th>\n",
              "      <td>my</td>\n",
              "      <td>AD674FAASTLXANMY</td>\n",
              "      <td>Adana Gallery Suri Square Hijab – Light Pink</td>\n",
              "      <td>Fashion</td>\n",
              "      <td>Women</td>\n",
              "      <td>Muslim Wear</td>\n",
              "      <td>&lt;ul&gt;&lt;li&gt;Material : Non sheer shimmer chiffon&lt;/...</td>\n",
              "      <td>49.00</td>\n",
              "      <td>local</td>\n",
              "    </tr>\n",
              "    <tr>\n",
              "      <th>1</th>\n",
              "      <td>my</td>\n",
              "      <td>AE068HBAA3RPRDANMY</td>\n",
              "      <td>Cuba Heartbreaker Eau De Parfum Spray 100ml/3.3oz</td>\n",
              "      <td>Health &amp; Beauty</td>\n",
              "      <td>Bath &amp; Body</td>\n",
              "      <td>Hand &amp; Foot Care</td>\n",
              "      <td>Formulated with oil-free hydrating botanicals/...</td>\n",
              "      <td>128.00</td>\n",
              "      <td>international</td>\n",
              "    </tr>\n",
              "    <tr>\n",
              "      <th>2</th>\n",
              "      <td>my</td>\n",
              "      <td>AN680ELAA9VN57ANMY</td>\n",
              "      <td>Andoer 150cm Cellphone Smartphone Mini Dual-He...</td>\n",
              "      <td>TV Audio / Video Gaming &amp; Wearables</td>\n",
              "      <td>Audio</td>\n",
              "      <td>Live Sound &amp; Stage</td>\n",
              "      <td>&lt;ul&gt; &lt;li&gt;150cm mini microphone compatible for ...</td>\n",
              "      <td>25.07</td>\n",
              "      <td>international</td>\n",
              "    </tr>\n",
              "    <tr>\n",
              "      <th>3</th>\n",
              "      <td>my</td>\n",
              "      <td>AN957HBAAAHDF4ANMY</td>\n",
              "      <td>ANMYNA Complaint Silky Set 柔顺洗发配套 (Shampoo 520...</td>\n",
              "      <td>Health &amp; Beauty</td>\n",
              "      <td>Hair Care</td>\n",
              "      <td>Shampoos &amp; Conditioners</td>\n",
              "      <td>&lt;ul&gt; &lt;li&gt;ANMYNA Complaint Silky Set (Shampoo 5...</td>\n",
              "      <td>118.00</td>\n",
              "      <td>local</td>\n",
              "    </tr>\n",
              "    <tr>\n",
              "      <th>4</th>\n",
              "      <td>my</td>\n",
              "      <td>AR511HBAXNWAANMY</td>\n",
              "      <td>Argital Argiltubo Green Clay For Face and Body...</td>\n",
              "      <td>Health &amp; Beauty</td>\n",
              "      <td>Men's Care</td>\n",
              "      <td>Body and Skin Care</td>\n",
              "      <td>&lt;ul&gt; &lt;li&gt;100% Authentic&lt;/li&gt; &lt;li&gt;Rrefresh and ...</td>\n",
              "      <td>114.80</td>\n",
              "      <td>international</td>\n",
              "    </tr>\n",
              "  </tbody>\n",
              "</table>\n",
              "</div>"
            ],
            "text/plain": [
              "  country              sku_id  ...   price   product_type\n",
              "0      my    AD674FAASTLXANMY  ...   49.00          local\n",
              "1      my  AE068HBAA3RPRDANMY  ...  128.00  international\n",
              "2      my  AN680ELAA9VN57ANMY  ...   25.07  international\n",
              "3      my  AN957HBAAAHDF4ANMY  ...  118.00          local\n",
              "4      my    AR511HBAXNWAANMY  ...  114.80  international\n",
              "\n",
              "[5 rows x 9 columns]"
            ]
          },
          "metadata": {
            "tags": []
          },
          "execution_count": 1
        }
      ]
    },
    {
      "cell_type": "markdown",
      "metadata": {
        "id": "fdGvNRCkSpmf",
        "colab_type": "text"
      },
      "source": [
        "<h2>Step 2: Preview Data </h2>\n",
        "\n",
        "As you might have seen in all the lab exercises, we've always previewed the data. This step is crucial because it allows us to first visually understand what is going on with our data, if there is any problems with it and if so, how we can go about tackling these issues.\n",
        "\n",
        "Previewing this data would give you something that looks like this:\n",
        "```python\n",
        "    {\n",
        "        'country': 'my',\n",
        "        'sku_id': 'AD674FAASTLXANMY',\n",
        "        'title': 'Adana Gallery Suri Square Hijab – Light Pink',\n",
        "        'category_lvl_1': 'Fashion',\n",
        "        'category_lvl_2': 'Women',\n",
        "        'category_lvl_3': 'Muslim Wear',\n",
        "        'short_description': '<ul><li>Material : Non sheer shimmer chiffon</li><li>Sizes : 52 x 52 inches OR 56 x 56 inches</li><li>Cut\\xa0with curved ends</li></ul>',\n",
        "        'price': '49',\n",
        "        'product_type': 'local'\n",
        "    }\n",
        "```"
      ]
    },
    {
      "cell_type": "markdown",
      "metadata": {
        "id": "GtbEcBHoSpmn",
        "colab_type": "text"
      },
      "source": [
        "<h2>Step 3: Data Cleaning </h2>\n",
        "As you've might observed, after previewing the data, we've realised some issues. In any Data Science project, data cleaning can take up to <b>80%</b> of the project time because of the numerous special cases you need to be aware of and <i>clean</i> them up for you to be able to use them.\n",
        "\n",
        "After previewing the data, we've observed the following issues with the Lazada dataset. They are the following:\n",
        "\n",
        "1. The `price` column is a `string`\n",
        "2. The `title` column has special characters like ()<> and so on\n",
        "3. The `short_description` column has special characters like ()<> and so on\n",
        "\n",
        "#### Practice 2\n",
        "We're going to practice some simple data cleaning. The other 2 issues have been resolved for you. Your job is simple:\n",
        "\n",
        "1. Clean the `price` column\n",
        "\n",
        "Our primary goal is to turn what we saw in the preview earlier and turn our dictionaries to this :\n",
        "```python\n",
        "    {\n",
        "        'country': 'my', \n",
        "        'sku_id': 'AD674FAASTLXANMY', \n",
        "        'title': 'Adana Gallery Suri Square Hijab   Light Pink', \n",
        "        'category_lvl_1': 'Fashion', \n",
        "        'category_lvl_2': 'Women', \n",
        "        'category_lvl_3': 'Muslim Wear', \n",
        "        'short_description': 'Material : Non sheer shimmer chiffon  Sizes : 52 x 52 inches OR 56 x 56 inches  Cut\\xa0with curved ends', \n",
        "        'price': 49.0, \n",
        "        'product_type': 'local'\n",
        "    }\n",
        "```"
      ]
    },
    {
      "cell_type": "code",
      "metadata": {
        "id": "tECMfYJtSpmo",
        "colab_type": "code",
        "colab": {},
        "outputId": "24388999-95d0-4eab-8682-149d29fcaa27"
      },
      "source": [
        "import re\n",
        "\n",
        "\n",
        "for product in lazada_data:\n",
        "\n",
        "    product['price'] = float(product['price'])\n",
        "    \n",
        "    text = re.sub('[^0-9a-zA-Z]',' ',product['title'])    \n",
        "    \n",
        "    product['title'] = text.strip()    \n",
        "\n",
        "    regex = re.compile('<.*?>')\n",
        "    text = regex.sub(' ',product['short_description'])\n",
        "    product['short_description'] = text.strip()\n",
        "\n",
        "pprint.pprint(lazada_data[:2])"
      ],
      "execution_count": 0,
      "outputs": [
        {
          "output_type": "stream",
          "text": [
            "[{'category_lvl_1': 'Fashion',\n",
            "  'category_lvl_2': 'Women',\n",
            "  'category_lvl_3': 'Muslim Wear',\n",
            "  'country': 'my',\n",
            "  'price': 49.0,\n",
            "  'product_type': 'local',\n",
            "  'short_description': 'Material : Non sheer shimmer chiffon  Sizes : 52 x 52 '\n",
            "                       'inches OR 56 x 56 inches  Cut\\xa0with curved ends',\n",
            "  'sku_id': 'AD674FAASTLXANMY',\n",
            "  'title': 'Adana Gallery Suri Square Hijab   Light Pink'},\n",
            " {'category_lvl_1': 'Health & Beauty',\n",
            "  'category_lvl_2': 'Bath & Body',\n",
            "  'category_lvl_3': 'Hand & Foot Care',\n",
            "  'country': 'my',\n",
            "  'price': 128.0,\n",
            "  'product_type': 'international',\n",
            "  'short_description': 'Formulated with oil-free hydrating botanicals/ '\n",
            "                       'Remarkably improves skin texture of abused '\n",
            "                       'hands/Restores soft smooth & refined hands',\n",
            "  'sku_id': 'AE068HBAA3RPRDANMY',\n",
            "  'title': 'Cuba Heartbreaker Eau De Parfum Spray 100ml 3 3oz'}]\n"
          ],
          "name": "stdout"
        }
      ]
    },
    {
      "cell_type": "markdown",
      "metadata": {
        "id": "Qfiqi86FSpmu",
        "colab_type": "text"
      },
      "source": [
        "<h2>Step 4: Explore with Questions </h2>\n",
        "\n",
        "Now that our data is cleaned, we can ask some simple questions of our data. Recall, our dataset now looks like this for 1 item:\n",
        "```python\n",
        "    {\n",
        "        'country': 'my', \n",
        "        'sku_id': 'AD674FAASTLXANMY', \n",
        "        'title': 'Adana Gallery Suri Square Hijab   Light Pink', \n",
        "        'category_lvl_1': 'Fashion', \n",
        "        'category_lvl_2': 'Women', \n",
        "        'category_lvl_3': 'Muslim Wear', \n",
        "        'short_description': 'Material : Non sheer shimmer chiffon  Sizes : 52 x 52 inches OR 56 x 56 inches  Cut\\xa0with curved ends', \n",
        "        'price': 49.0, \n",
        "        'product_type': 'local'\n",
        "    }\n",
        "```\n",
        "\n",
        "### Practice 3\n",
        "#### Question 1\n",
        "\n",
        "How many items are more than $50?\n",
        "\n",
        "<b>Expected Output:</b>\n",
        "\n",
        "    The number of items with price greater than $50 is: 21135"
      ]
    },
    {
      "cell_type": "code",
      "metadata": {
        "id": "DSYCIzAiSpmv",
        "colab_type": "code",
        "colab": {},
        "outputId": "fd62c3e4-e6b5-4349-d5ea-f2763c4e9549"
      },
      "source": [
        "num_items_greater_than_50 = 0\n",
        "\n",
        "#write your code here below\n",
        "for row in lazada_data:\n",
        "    price = row['price']\n",
        "    if price > 50:\n",
        "        num_items_greater_than_50 += 1\n",
        "print('The number of items with price greater than $50 is: ' + str(num_items_greater_than_50))"
      ],
      "execution_count": 0,
      "outputs": [
        {
          "output_type": "stream",
          "text": [
            "The number of items with price greater than $50 is: 21135\n"
          ],
          "name": "stdout"
        }
      ]
    },
    {
      "cell_type": "markdown",
      "metadata": {
        "id": "0PyWJ13GSpm4",
        "colab_type": "text"
      },
      "source": [
        "#### Question 2\n",
        "\n",
        "How many items are listed in <b>Singapore</b>, <b>Malaysia</b>, <b>Phillippines</b>?\n",
        "\n",
        "\n",
        "<b>Expected Output:</b>\n",
        "\n",
        "    SG:  8638\n",
        "    MY:  16413\n",
        "    PH:  11232\n",
        "    "
      ]
    },
    {
      "cell_type": "code",
      "metadata": {
        "id": "aAKqdYS1Spm5",
        "colab_type": "code",
        "colab": {},
        "outputId": "bce708af-2941-423c-9e81-f02cca97f25a"
      },
      "source": [
        "sg_items = 0\n",
        "my_items = 0\n",
        "ph_items = 0\n",
        "\n",
        "#write your code here below\n",
        "for row in lazada_data:\n",
        "    country = row['country']\n",
        "    if country == 'sg':\n",
        "        sg_items += 1\n",
        "    elif country == 'my':\n",
        "        my_items += 1\n",
        "    elif country == 'ph':\n",
        "        ph_items += 1\n",
        "print('SG: ' + str(sg_items))\n",
        "print('MY: ' + str(my_items))\n",
        "print('PH: ' + str(ph_items))"
      ],
      "execution_count": 0,
      "outputs": [
        {
          "output_type": "stream",
          "text": [
            "SG: 8638\n",
            "MY: 16413\n",
            "PH: 11232\n"
          ],
          "name": "stdout"
        }
      ]
    },
    {
      "cell_type": "markdown",
      "metadata": {
        "id": "ub-mZO7dSpm_",
        "colab_type": "text"
      },
      "source": [
        "#### Question 3\n",
        "\n",
        "For the `category_1` of `Fashion`, how many items are for `Men` and how many items are for `Women`?\n",
        "\n",
        "<b>Expected Output:</b>\n",
        "\n",
        "    Male Fashion: 1609\n",
        "    Women Fashion: 3944\n",
        "    "
      ]
    },
    {
      "cell_type": "code",
      "metadata": {
        "id": "QeaRPdxMSpnB",
        "colab_type": "code",
        "colab": {},
        "outputId": "f631d8d7-3bae-4ebc-f5d3-4c38eb3116c0"
      },
      "source": [
        "fashion_men = 0\n",
        "fashion_women = 0\n",
        "\n",
        "#write your code here below\n",
        "for row in lazada_data:\n",
        "    cat1 = row['category_lvl_1']\n",
        "    cat2 = row['category_lvl_2']\n",
        "    if cat1 == 'Fashion':\n",
        "        if cat2 == 'Men':\n",
        "            fashion_men += 1\n",
        "        if cat2 == 'Women':\n",
        "            fashion_women += 1\n",
        "print('Male Fashion: ' + str(fashion_men))\n",
        "print('Women Fashion: ' + str(fashion_women))"
      ],
      "execution_count": 0,
      "outputs": [
        {
          "output_type": "stream",
          "text": [
            "Male Fashion: 1609\n",
            "Women Fashion: 3944\n"
          ],
          "name": "stdout"
        }
      ]
    },
    {
      "cell_type": "markdown",
      "metadata": {
        "id": "inV1IQSzSpnG",
        "colab_type": "text"
      },
      "source": [
        "<h2>Step 5: Visualise </h2>\n",
        "\n",
        "Visualisations is a powerful tool in understanding. Provides us with a visual representation to some of the answers we might have of our data. Some of the common visualistions we can use are:\n",
        "\n",
        "1. Bar Charts\n",
        "2. Scatter Plots\n",
        "3. Histogram \n",
        "\n",
        "and many more...\n",
        "\n",
        "In order to do any of these visualisations, we need to prepare the data we need for these.\n",
        "\n",
        "### Practice 4\n",
        "\n",
        "#### Question 1\n",
        "Using counting with dictionaries, find the number of items `category_lvl_1` items there are in Singapore and store it in `SG_Products`.\n",
        "\n",
        "<b>Expected Output:</b>\n",
        "   \n",
        "       {\n",
        "           'Computers & Laptops': 698,\n",
        "           'TV Audio / Video Gaming & Wearables': 593,\n",
        "           'Fashion': 1352,\n",
        "           'Mobiles & Tablets': 1407,\n",
        "           'Health & Beauty': 1010,\n",
        "           'Home & Living': 1563,\n",
        "           'Watches Sunglasses Jewellery': 1069,\n",
        "           'Home Appliances': 434,\n",
        "           'Cameras': 512\n",
        "       }"
      ]
    },
    {
      "cell_type": "code",
      "metadata": {
        "id": "1eM-QRDiSpnH",
        "colab_type": "code",
        "colab": {},
        "outputId": "b81e0ea9-939f-4ff6-e8a9-3e71b7cd7be3"
      },
      "source": [
        "SG_Products = {}\n",
        "for row in lazada_data:\n",
        "    country = row['country']\n",
        "    product = row['category_lvl_1']\n",
        "    if country == 'sg':\n",
        "        if product not in SG_Products:\n",
        "            SG_Products[product] = 1\n",
        "        else:\n",
        "            SG_Products[product] += 1\n",
        "pprint.pprint(SG_Products)"
      ],
      "execution_count": 0,
      "outputs": [
        {
          "output_type": "stream",
          "text": [
            "{'Cameras': 512,\n",
            " 'Computers & Laptops': 698,\n",
            " 'Fashion': 1352,\n",
            " 'Health & Beauty': 1010,\n",
            " 'Home & Living': 1563,\n",
            " 'Home Appliances': 434,\n",
            " 'Mobiles & Tablets': 1407,\n",
            " 'TV Audio / Video Gaming & Wearables': 593,\n",
            " 'Watches Sunglasses Jewellery': 1069}\n"
          ],
          "name": "stdout"
        }
      ]
    },
    {
      "cell_type": "markdown",
      "metadata": {
        "id": "1T98-DQaSpnK",
        "colab_type": "text"
      },
      "source": [
        "#### Question 2\n",
        "Using what you've done in Question 1, apply this for both Malaysia and Phillippines and store them in `MY_Products` and `PH_Products`, respectively."
      ]
    },
    {
      "cell_type": "code",
      "metadata": {
        "id": "mhkLhPoNSpnL",
        "colab_type": "code",
        "colab": {},
        "outputId": "93bc3950-c0dc-4715-8854-896b47214ff6"
      },
      "source": [
        "MY_Products = {}\n",
        "for row in lazada_data:\n",
        "    country = row['country']\n",
        "    product = row['category_lvl_1']\n",
        "    if country == 'my':\n",
        "        if product not in MY_Products:\n",
        "            MY_Products[product] = 1\n",
        "        else:\n",
        "            MY_Products[product] += 1\n",
        "pprint.pprint(MY_Products)"
      ],
      "execution_count": 0,
      "outputs": [
        {
          "output_type": "stream",
          "text": [
            "{'Cameras': 832,\n",
            " 'Computers & Laptops': 1452,\n",
            " 'Fashion': 2539,\n",
            " 'Health & Beauty': 1790,\n",
            " 'Home & Living': 2595,\n",
            " 'Home Appliances': 633,\n",
            " 'Mobiles & Tablets': 3666,\n",
            " 'TV Audio / Video Gaming & Wearables': 1018,\n",
            " 'Watches Sunglasses Jewellery': 1888}\n"
          ],
          "name": "stdout"
        }
      ]
    },
    {
      "cell_type": "code",
      "metadata": {
        "id": "7GA7Oxc1SpnP",
        "colab_type": "code",
        "colab": {},
        "outputId": "18546a49-a8b5-46ae-8f44-3abe26d9f2c2"
      },
      "source": [
        "PH_Products = {}\n",
        "for row in lazada_data:\n",
        "    country = row['country']\n",
        "    product = row['category_lvl_1']\n",
        "    if country == 'ph':\n",
        "        if product not in PH_Products:\n",
        "            PH_Products[product] = 1\n",
        "        else:\n",
        "            PH_Products[product] += 1\n",
        "pprint.pprint(PH_Products)"
      ],
      "execution_count": 0,
      "outputs": [
        {
          "output_type": "stream",
          "text": [
            "{'Cameras': 608,\n",
            " 'Computers & Laptops': 775,\n",
            " 'Fashion': 1838,\n",
            " 'Health & Beauty': 1240,\n",
            " 'Home & Living': 1890,\n",
            " 'Home Appliances': 518,\n",
            " 'Mobiles & Tablets': 2204,\n",
            " 'TV Audio / Video Gaming & Wearables': 900,\n",
            " 'Watches Sunglasses Jewellery': 1259}\n"
          ],
          "name": "stdout"
        }
      ]
    },
    {
      "cell_type": "markdown",
      "metadata": {
        "id": "C9CME3hbSpnU",
        "colab_type": "text"
      },
      "source": [
        "### Bar Charts\n",
        "To begin any visualisation, we need to use external libraries to help us. To do so, we would need to use the `matplotlib` library. \n",
        "\n",
        "A good tool to compare between categories is to use bar charts. Below would be an example of such a barchart"
      ]
    },
    {
      "cell_type": "code",
      "metadata": {
        "id": "Tl8g9CElSpnW",
        "colab_type": "code",
        "colab": {},
        "outputId": "904afd86-3ff4-498a-eabc-db7ddc043f1c"
      },
      "source": [
        "import matplotlib.pyplot as plt\n",
        "%matplotlib inline\n",
        "\n",
        "fig = plt.figure()\n",
        "plt.bar(range(len(SG_Products)),\n",
        "        SG_Products.values(),\n",
        "        align = 'center')\n",
        "plt.xticks(range(len(SG_Products)),\n",
        "          SG_Products.keys(),\n",
        "          rotation = 'vertical')\n"
      ],
      "execution_count": 0,
      "outputs": [
        {
          "output_type": "execute_result",
          "data": {
            "text/plain": [
              "([<matplotlib.axis.XTick at 0x10ae0b198>,\n",
              "  <matplotlib.axis.XTick at 0x10a693710>,\n",
              "  <matplotlib.axis.XTick at 0x10a6a0080>,\n",
              "  <matplotlib.axis.XTick at 0x10a6044e0>,\n",
              "  <matplotlib.axis.XTick at 0x10a5fd588>,\n",
              "  <matplotlib.axis.XTick at 0x10a5f5710>,\n",
              "  <matplotlib.axis.XTick at 0x10a5ef6d8>,\n",
              "  <matplotlib.axis.XTick at 0x10a5e66d8>,\n",
              "  <matplotlib.axis.XTick at 0x10a5df710>],\n",
              " <a list of 9 Text xticklabel objects>)"
            ]
          },
          "metadata": {
            "tags": []
          },
          "execution_count": 12
        },
        {
          "output_type": "display_data",
          "data": {
            "image/png": "[encoded data removed]",
            "text/plain": [
              "<Figure size 432x288 with 1 Axes>"
            ]
          },
          "metadata": {
            "tags": [],
            "needs_background": "light"
          }
        }
      ]
    },
    {
      "cell_type": "markdown",
      "metadata": {
        "id": "P3T5oRXgSpnZ",
        "colab_type": "text"
      },
      "source": [
        "### Practice 5\n",
        "#### Question 1\n",
        "Apply what you've learnt from the example for the products from <b>Malaysia</b>."
      ]
    },
    {
      "cell_type": "code",
      "metadata": {
        "id": "FNhv34jgSpna",
        "colab_type": "code",
        "colab": {},
        "outputId": "916241d6-6f8c-44d0-cb86-3b55f82ee2d5"
      },
      "source": [
        "#Write your code below\n",
        "import matplotlib.pyplot as plt\n",
        "%matplotlib inline\n",
        "\n",
        "fig = plt.figure()\n",
        "plt.bar(range(len(MY_Products)),\n",
        "        SG_Products.values(),\n",
        "        align = 'center')\n",
        "plt.xticks(range(len(MY_Products)),\n",
        "          SG_Products.keys(),\n",
        "          rotation = 'vertical')\n",
        "\n"
      ],
      "execution_count": 0,
      "outputs": [
        {
          "output_type": "execute_result",
          "data": {
            "text/plain": [
              "([<matplotlib.axis.XTick at 0x10a55c4e0>,\n",
              "  <matplotlib.axis.XTick at 0x10a560e48>,\n",
              "  <matplotlib.axis.XTick at 0x10a5641d0>,\n",
              "  <matplotlib.axis.XTick at 0x10a4db4e0>,\n",
              "  <matplotlib.axis.XTick at 0x10a4d75c0>,\n",
              "  <matplotlib.axis.XTick at 0x10a4d0358>,\n",
              "  <matplotlib.axis.XTick at 0x10a4c74e0>,\n",
              "  <matplotlib.axis.XTick at 0x10a4d7a58>,\n",
              "  <matplotlib.axis.XTick at 0x10a4bcdd8>],\n",
              " <a list of 9 Text xticklabel objects>)"
            ]
          },
          "metadata": {
            "tags": []
          },
          "execution_count": 13
        },
        {
          "output_type": "display_data",
          "data": {
            "image/png": "[encoded data removed]",
            "text/plain": [
              "<Figure size 432x288 with 1 Axes>"
            ]
          },
          "metadata": {
            "tags": [],
            "needs_background": "light"
          }
        }
      ]
    },
    {
      "cell_type": "markdown",
      "metadata": {
        "id": "VQ5o9w8bSpnc",
        "colab_type": "text"
      },
      "source": [
        "#### Question 2\n",
        "Apply what you've learnt from the example for the products from <b>Phillippines</b>."
      ]
    },
    {
      "cell_type": "code",
      "metadata": {
        "id": "5V5-NZjbSpnd",
        "colab_type": "code",
        "colab": {},
        "outputId": "3f93dcc0-5e07-4ea2-b5e7-af039161f0df"
      },
      "source": [
        "#Write your code below\n",
        "import matplotlib.pyplot as plt\n",
        "%matplotlib inline\n",
        "\n",
        "fig = plt.figure()\n",
        "plt.bar(range(len(PH_Products)),\n",
        "        SG_Products.values(),\n",
        "        align = 'center')\n",
        "plt.xticks(range(len(PH_Products)),\n",
        "          SG_Products.keys(),\n",
        "          rotation = 'vertical')"
      ],
      "execution_count": 0,
      "outputs": [
        {
          "output_type": "execute_result",
          "data": {
            "text/plain": [
              "([<matplotlib.axis.XTick at 0x11e8eb240>,\n",
              "  <matplotlib.axis.XTick at 0x11e8e7b38>,\n",
              "  <matplotlib.axis.XTick at 0x11e8e7898>,\n",
              "  <matplotlib.axis.XTick at 0x11e861278>,\n",
              "  <matplotlib.axis.XTick at 0x11e8616d8>,\n",
              "  <matplotlib.axis.XTick at 0x11e861be0>,\n",
              "  <matplotlib.axis.XTick at 0x11e8619e8>,\n",
              "  <matplotlib.axis.XTick at 0x11e86b048>,\n",
              "  <matplotlib.axis.XTick at 0x11e86b748>],\n",
              " <a list of 9 Text xticklabel objects>)"
            ]
          },
          "metadata": {
            "tags": []
          },
          "execution_count": 49
        },
        {
          "output_type": "display_data",
          "data": {
            "image/png": "[encoded data removed]",
            "text/plain": [
              "<Figure size 432x288 with 1 Axes>"
            ]
          },
          "metadata": {
            "tags": [],
            "needs_background": "light"
          }
        }
      ]
    },
    {
      "cell_type": "markdown",
      "metadata": {
        "id": "zIgh8kGESpnf",
        "colab_type": "text"
      },
      "source": [
        "### Clustered Bar Charts\n",
        "A good tool for comparing between categories side-by-side and distinguished by individual categories would be to use clustered bar charts. Below is an example done for you."
      ]
    },
    {
      "cell_type": "code",
      "metadata": {
        "scrolled": true,
        "id": "xSWi5w5MSpnf",
        "colab_type": "code",
        "colab": {},
        "outputId": "60fbce62-6e78-45d6-8d37-8eb1184c8bb5"
      },
      "source": [
        "import matplotlib.pyplot as plt\n",
        "import numpy as np\n",
        "%matplotlib inline\n",
        "N = 9 \n",
        "ind = np.arange(N)  \n",
        "width = 0.25       \n",
        "\n",
        "fig, ax = plt.subplots()\n",
        "\n",
        "rects1 = ax.barh(ind, \n",
        "                 list(SG_Products.values()), \n",
        "                 width,   color='r')\n",
        "rects2 = ax.barh(ind+width,  list(MY_Products.values()),width,  color='g')\n",
        "rects3 = ax.barh(ind+width+width, list(PH_Products.values()),width, color='b')\n",
        "\n",
        "\n",
        "ax.set_xlabel('Number of Products')\n",
        "ax.set_title('Product Distributions by Country')\n",
        "ax.set_yticks(ind)\n",
        "ax.set_yticklabels(MY_Products.keys(),rotation='horizontal')\n",
        "\n",
        "ax.legend((rects1[0], rects2[0],rects3[0]), ('SG', 'MY', 'PH'))\n",
        "\n",
        "plt.show()"
      ],
      "execution_count": 0,
      "outputs": [
        {
          "output_type": "display_data",
          "data": {
            "image/png": "[encoded data removed]",
            "text/plain": [
              "<Figure size 432x288 with 1 Axes>"
            ]
          },
          "metadata": {
            "tags": [],
            "needs_background": "light"
          }
        }
      ]
    },
    {
      "cell_type": "markdown",
      "metadata": {
        "id": "7cQMX08zSpnl",
        "colab_type": "text"
      },
      "source": [
        "### Practice 6\n",
        "Using what we've learnt earlier, let's apply this to another question, this time using the `ax.bar()` instead. \n",
        "\n",
        "<b>Let's compare between countries, the number of products for `Female` and `Male`, distinguished by country.</b>\n",
        "\n",
        "<b>Expected Output:</b>\n",
        "\n",
        "<img src=\"https://i.imgur.com/H26KoLL.png\">"
      ]
    },
    {
      "cell_type": "code",
      "metadata": {
        "id": "KM0q5SlfSpnl",
        "colab_type": "code",
        "colab": {},
        "outputId": "46c53b31-8195-4024-e532-741d6382eb98"
      },
      "source": [
        "Women_Product_Counts = {'sg':0,'my':0,'ph':0}\n",
        "Men_Product_Counts = {'sg':0,'my':0,'ph':0}\n",
        "\n",
        "for product in lazada_data:\n",
        "    if product['country'] == 'sg' and product['category_lvl_1']=='Fashion':\n",
        "        if product['category_lvl_2']=='Women':\n",
        "            Women_Product_Counts['sg'] = Women_Product_Counts['sg'] + 1\n",
        "        elif product['category_lvl_2']=='Men':\n",
        "            Men_Product_Counts['sg'] = Men_Product_Counts['sg'] + 1\n",
        "    elif product['country'] == 'my' and product['category_lvl_1']=='Fashion':\n",
        "        if product['category_lvl_2']=='Women':\n",
        "            Women_Product_Counts['my'] = Women_Product_Counts['my'] + 1\n",
        "        elif product['category_lvl_2']=='Men':\n",
        "            Men_Product_Counts['my'] = Men_Product_Counts['my'] + 1\n",
        "    elif product['country'] == 'ph' and product['category_lvl_1']=='Fashion':\n",
        "        if product['category_lvl_2']=='Women':\n",
        "            Women_Product_Counts['ph'] = Women_Product_Counts['ph'] + 1\n",
        "        elif product['category_lvl_2']=='Men':\n",
        "            Men_Product_Counts['ph'] = Men_Product_Counts['ph'] + 1\n",
        "\n",
        "print(Women_Product_Counts)\n",
        "print(Men_Product_Counts)\n",
        "\n",
        "#========== Plot the charts ============\n",
        "N = 3 \n",
        "ind = np.arange(N)  \n",
        "width = 0.25      \n",
        "\n",
        "fig, ax = plt.subplots()\n",
        "\n",
        "rects1 = ax.bar(ind, Women_Product_Counts.values(), width, color='r')\n",
        "rects2 = ax.bar(ind+width, Men_Product_Counts.values(), width, color='b')\n",
        "\n",
        "\n",
        "\n",
        "ax.set_ylabel('Numer of Products')\n",
        "ax.set_title('Women VS Men Fashion Product Distributions')\n",
        "ax.set_xticks([0.125,1.125,2.125])\n",
        "ax.set_xticklabels(['SG','MY','PH'])\n",
        "ax.legend((rects1[0], rects2[0]), ('Women', 'Men'))\n",
        "\n",
        "plt.show()"
      ],
      "execution_count": 0,
      "outputs": [
        {
          "output_type": "stream",
          "text": [
            "{'sg': 941, 'my': 1763, 'ph': 1240}\n",
            "{'sg': 367, 'my': 700, 'ph': 542}\n"
          ],
          "name": "stdout"
        },
        {
          "output_type": "display_data",
          "data": {
            "image/png": "[encoded data removed]",
            "text/plain": [
              "<Figure size 432x288 with 1 Axes>"
            ]
          },
          "metadata": {
            "tags": [],
            "needs_background": "light"
          }
        }
      ]
    }
  ]
}